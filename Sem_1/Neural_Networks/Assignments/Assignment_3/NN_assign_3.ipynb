{
 "cells": [
  {
   "cell_type": "code",
   "execution_count": 86,
   "id": "recorded-diving",
   "metadata": {},
   "outputs": [],
   "source": [
    "import numpy as np\n",
    "import matplotlib.pyplot as plt\n",
    "from mlxtend.data import loadlocal_mnist\n",
    "from matplotlib import animation\n",
    "%matplotlib inline"
   ]
  },
  {
   "cell_type": "code",
   "execution_count": 72,
   "id": "accessory-activation",
   "metadata": {},
   "outputs": [],
   "source": [
    "train_set, train_labels = loadlocal_mnist(\n",
    "        images_path='train-images.idx3-ubyte', \n",
    "        labels_path='train-labels.idx1-ubyte')\n",
    "test_set, test_labels = loadlocal_mnist(\n",
    "        images_path='t10k-images.idx3-ubyte',\n",
    "        labels_path='t10k-labels.idx1-ubyte')"
   ]
  },
  {
   "cell_type": "code",
   "execution_count": 91,
   "id": "informed-florida",
   "metadata": {},
   "outputs": [],
   "source": [
    "def unit_activation(vector, W_train):\n",
    "    local_field = W_train.dot(vector.reshape(784, 1))\n",
    "    output = np.zeros(shape=(10, 1))\n",
    "    output[local_field.argmax()] = 1\n",
    "    return output\n",
    "\n",
    "def calculate_errors(X_train, Y_train, W_train):\n",
    "    errors = 0\n",
    "    for vector, label in zip(X_train, Y_train):\n",
    "        local_field = W_train.dot(vector.reshape(784, 1))\n",
    "        if (local_field.argmax() != label):\n",
    "            errors += 1\n",
    "    return errors\n",
    "\n",
    "def assign_experiment_3(n, eta, epsilon):\n",
    "    X_train = train_set[:n, :]\n",
    "    Y_train = train_labels[:n]\n",
    "    W_train = np.random.randn(10, 784)\n",
    "    epoch = 0\n",
    "    errors = []\n",
    "    while (True):\n",
    "        errors.append(calculate_errors(X_train, Y_train, W_train))\n",
    "        print('epoch: {}, errors: {}'.format(epoch, errors[-1]))\n",
    "        if (errors[-1]/n <= epsilon):\n",
    "            break\n",
    "        for vector, label in zip(X_train, Y_train):\n",
    "            label_vector = np.zeros(shape=(10, 1))\n",
    "            label_vector[label] = 1\n",
    "            W_train = W_train + eta*(label_vector - unit_activation(vector, W_train)).dot(vector.reshape(1, 784))\n",
    "        epoch += 1\n",
    "    \n",
    "    #real_time = animation.FuncAnimation(plt.gcf(), animate, fargs=errors, interval=100)\n",
    "    plt.plot([i for i in range(0, epoch + 1)], errors, 'r')\n",
    "    plt.show()\n",
    "    \n",
    "    test_errors = calculate_errors(test_set, test_labels, W_train)\n",
    "    print((test_errors/test_set.shape[0]) * 100)"
   ]
  },
  {
   "cell_type": "code",
   "execution_count": 92,
   "id": "fixed-garbage",
   "metadata": {},
   "outputs": [
    {
     "name": "stdout",
     "output_type": "stream",
     "text": [
      "epoch: 0, errors: 46\n",
      "epoch: 1, errors: 9\n",
      "epoch: 2, errors: 13\n",
      "epoch: 3, errors: 13\n",
      "epoch: 4, errors: 2\n",
      "epoch: 5, errors: 6\n",
      "epoch: 6, errors: 0\n"
     ]
    },
    {
     "data": {
      "image/png": "[encoded data removed]",
      "text/plain": [
       "<Figure size 432x288 with 1 Axes>"
      ]
     },
     "metadata": {
      "needs_background": "light"
     },
     "output_type": "display_data"
    },
    {
     "name": "stdout",
     "output_type": "stream",
     "text": [
      "42.480000000000004\n"
     ]
    }
   ],
   "source": [
    "assign_experiment_3(n=50, eta=1, epsilon=0)"
   ]
  },
  {
   "cell_type": "code",
   "execution_count": 93,
   "id": "skilled-record",
   "metadata": {},
   "outputs": [
    {
     "name": "stdout",
     "output_type": "stream",
     "text": [
      "epoch: 0, errors: 895\n",
      "epoch: 1, errors: 276\n",
      "epoch: 2, errors: 146\n",
      "epoch: 3, errors: 197\n",
      "epoch: 4, errors: 72\n",
      "epoch: 5, errors: 98\n",
      "epoch: 6, errors: 95\n",
      "epoch: 7, errors: 48\n",
      "epoch: 8, errors: 20\n",
      "epoch: 9, errors: 46\n",
      "epoch: 10, errors: 55\n",
      "epoch: 11, errors: 38\n",
      "epoch: 12, errors: 48\n",
      "epoch: 13, errors: 24\n",
      "epoch: 14, errors: 5\n",
      "epoch: 15, errors: 11\n",
      "epoch: 16, errors: 3\n",
      "epoch: 17, errors: 69\n",
      "epoch: 18, errors: 27\n",
      "epoch: 19, errors: 1\n",
      "epoch: 20, errors: 4\n",
      "epoch: 21, errors: 5\n",
      "epoch: 22, errors: 8\n",
      "epoch: 23, errors: 1\n",
      "epoch: 24, errors: 1\n",
      "epoch: 25, errors: 5\n",
      "epoch: 26, errors: 5\n",
      "epoch: 27, errors: 6\n",
      "epoch: 28, errors: 1\n",
      "epoch: 29, errors: 4\n",
      "epoch: 30, errors: 1\n",
      "epoch: 31, errors: 0\n"
     ]
    },
    {
     "data": {
      "image/png": "[encoded data removed]",
      "text/plain": [
       "<Figure size 432x288 with 1 Axes>"
      ]
     },
     "metadata": {
      "needs_background": "light"
     },
     "output_type": "display_data"
    },
    {
     "name": "stdout",
     "output_type": "stream",
     "text": [
      "16.2\n"
     ]
    }
   ],
   "source": [
    "assign_experiment_3(n=1000, eta=1, epsilon=0)"
   ]
  },
  {
   "cell_type": "code",
   "execution_count": 96,
   "id": "million-aviation",
   "metadata": {},
   "outputs": [
    {
     "name": "stdout",
     "output_type": "stream",
     "text": [
      "epoch: 0, errors: 50489\n",
      "epoch: 1, errors: 7670\n",
      "epoch: 2, errors: 7323\n",
      "epoch: 3, errors: 7108\n",
      "epoch: 4, errors: 7524\n",
      "epoch: 5, errors: 8532\n",
      "epoch: 6, errors: 6794\n",
      "epoch: 7, errors: 6811\n",
      "epoch: 8, errors: 8047\n",
      "epoch: 9, errors: 7805\n",
      "epoch: 10, errors: 7805\n",
      "epoch: 11, errors: 7597\n",
      "epoch: 12, errors: 6874\n",
      "epoch: 13, errors: 6700\n",
      "epoch: 14, errors: 8141\n",
      "epoch: 15, errors: 6700\n",
      "epoch: 16, errors: 7027\n",
      "epoch: 17, errors: 6845\n",
      "epoch: 18, errors: 8426\n",
      "epoch: 19, errors: 8198\n",
      "epoch: 20, errors: 8143\n",
      "epoch: 21, errors: 6711\n",
      "epoch: 22, errors: 6301\n"
     ]
    },
    {
     "data": {
      "image/png": "[encoded data removed]",
      "text/plain": [
       "<Figure size 432x288 with 1 Axes>"
      ]
     },
     "metadata": {
      "needs_background": "light"
     },
     "output_type": "display_data"
    },
    {
     "name": "stdout",
     "output_type": "stream",
     "text": [
      "11.540000000000001\n"
     ]
    }
   ],
   "source": [
    "assign_experiment_3(n=60000, eta=1, epsilon=0.11)"
   ]
  },
  {
   "cell_type": "markdown",
   "id": "surgical-metallic",
   "metadata": {},
   "source": [
    "Question (i) to be done"
   ]
  }
 ],
 "metadata": {
  "kernelspec": {
   "display_name": "Python 3 (ipykernel)",
   "language": "python",
   "name": "python3"
  },
  "language_info": {
   "codemirror_mode": {
    "name": "ipython",
    "version": 3
   },
   "file_extension": ".py",
   "mimetype": "text/x-python",
   "name": "python",
   "nbconvert_exporter": "python",
   "pygments_lexer": "ipython3",
   "version": "3.8.10"
  },
  "latex_envs": {
   "LaTeX_envs_menu_present": true,
   "autoclose": false,
   "autocomplete": true,
   "bibliofile": "biblio.bib",
   "cite_by": "apalike",
   "current_citInitial": 1,
   "eqLabelWithNumbers": true,
   "eqNumInitial": 1,
   "hotkeys": {
    "equation": "Ctrl-E",
    "itemize": "Ctrl-I"
   },
   "labels_anchors": false,
   "latex_user_defs": false,
   "report_style_numbering": false,
   "user_envs_cfg": false
  }
 },
 "nbformat": 4,
 "nbformat_minor": 5
}
