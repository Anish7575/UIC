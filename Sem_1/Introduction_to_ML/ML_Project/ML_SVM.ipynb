{
 "cells": [
  {
   "cell_type": "code",
   "execution_count": 1,
   "metadata": {},
   "outputs": [],
   "source": [
    "# Name: Sai Anish Garapati\n",
    "# UIN: 650208577"
   ]
  },
  {
   "cell_type": "code",
   "execution_count": 1,
   "metadata": {},
   "outputs": [],
   "source": [
    "import os, time\n",
    "import numpy as np\n",
    "import pandas as pd\n",
    "from PIL import Image\n",
    "import matplotlib.pyplot as plt\n",
    "from sklearn import svm\n",
    "from sklearn import metrics\n",
    "from sklearn.utils import shuffle\n",
    "import torchvision.transforms as transforms"
   ]
  },
  {
   "cell_type": "markdown",
   "metadata": {},
   "source": [
    "# Without augmentation"
   ]
  },
  {
   "cell_type": "code",
   "execution_count": 2,
   "metadata": {},
   "outputs": [],
   "source": [
    "def read_image_data(file_path, root_path, data_type):\n",
    "\ttransform = transforms.Compose([\n",
    "\t\ttransforms.Resize(32),\n",
    "\t\ttransforms.RandomCrop(32),\n",
    "\t\ttransforms.ToTensor()\n",
    "\t])\n",
    "\timage_data = []\n",
    "\timage_labels = []\n",
    "\tcsv_content = pd.read_csv(file_path, usecols=['ClassId', 'Path']).values\n",
    "\tfor i in range(len(csv_content)):\n",
    "\t\timg = Image.open(root_path + csv_content[i][1])\n",
    "\t\tlabel = csv_content[i][0]\n",
    "\t\timg_array = transform(img).numpy().flatten()\n",
    "\t\timage_data.append(img_array)\n",
    "\t\timage_labels.append(label)\n",
    "\n",
    "\treturn image_data, image_labels\n"
   ]
  },
  {
   "cell_type": "code",
   "execution_count": 3,
   "metadata": {},
   "outputs": [
    {
     "name": "stdout",
     "output_type": "stream",
     "text": [
      "Time for reading not augmented data: 58.01498579978943\n",
      "39209 39209\n",
      "12630 12630\n"
     ]
    }
   ],
   "source": [
    "root_path = '../../../../ML_Project_Data/'\n",
    "train_path = root_path + 'Train.csv'\n",
    "test_path = root_path + 'Test.csv'\n",
    "\n",
    "start_time = time.time()\n",
    "train_data, train_labels = read_image_data(train_path, root_path, 'Train')\n",
    "train_data, train_labels = shuffle(train_data, train_labels, random_state=0)\n",
    "test_data, test_labels = read_image_data(test_path, root_path, 'Test')\n",
    "print('Time for reading not augmented data: {}'.format(time.time() - start_time))\n",
    "print(len(train_data), len(train_labels))\n",
    "print(len(test_data), len(test_labels))"
   ]
  },
  {
   "cell_type": "markdown",
   "metadata": {},
   "source": [
    "## SVM (Linear)"
   ]
  },
  {
   "cell_type": "code",
   "execution_count": 4,
   "metadata": {},
   "outputs": [
    {
     "name": "stdout",
     "output_type": "stream",
     "text": [
      "Time for training: 556.6511178016663\n",
      "Train Accuracy: 99.89288173633605\n",
      "Time for testing: 325.9511013031006\n",
      "Test Accuracy: 80.78384798099762\n"
     ]
    }
   ],
   "source": [
    "clf = svm.SVC(kernel='linear')\n",
    "\n",
    "start_time = time.time()\n",
    "clf.fit(train_data, train_labels)\n",
    "print('Time for training: {}'.format(time.time() - start_time))\n",
    "\n",
    "train_predict = clf.predict(train_data)\n",
    "print('Train Accuracy: {}'.format(\n",
    "    metrics.accuracy_score(train_predict, train_labels) * 100.0))\n",
    "\n",
    "start_time = time.time()\n",
    "test_predict = clf.predict(test_data)\n",
    "print('Time for testing: {}'.format(time.time() - start_time))\n",
    "print('Test Accuracy: {}'.format(\n",
    "    metrics.accuracy_score(test_predict, test_labels) * 100.0))"
   ]
  },
  {
   "cell_type": "markdown",
   "metadata": {},
   "source": [
    "## SVM (polynomial)"
   ]
  },
  {
   "cell_type": "code",
   "execution_count": 5,
   "metadata": {},
   "outputs": [
    {
     "name": "stdout",
     "output_type": "stream",
     "text": [
      "Time for training: 1760.4874799251556\n",
      "Train Accuracy: 74.34517585248285\n",
      "Time for testing: 573.1622340679169\n",
      "Test Accuracy: 49.69121140142518\n"
     ]
    }
   ],
   "source": [
    "clf2 = svm.SVC(kernel='poly', degree=4)\n",
    "\n",
    "start_time = time.time()\n",
    "clf2.fit(train_data, train_labels)\n",
    "print('Time for training: {}'.format(time.time() - start_time))\n",
    "\n",
    "train_predict = clf2.predict(train_data)\n",
    "print('Train Accuracy: {}'.format(\n",
    "    metrics.accuracy_score(train_predict, train_labels) * 100.0))\n",
    "\n",
    "start_time = time.time()\n",
    "test_predict = clf2.predict(test_data)\n",
    "print('Time for testing: {}'.format(time.time() - start_time))\n",
    "print('Test Accuracy: {}'.format(\n",
    "    metrics.accuracy_score(test_predict, test_labels) * 100.0))\n"
   ]
  },
  {
   "cell_type": "markdown",
   "metadata": {},
   "source": [
    "## SVM Linear (K-fold cross validation)"
   ]
  },
  {
   "cell_type": "code",
   "execution_count": 6,
   "metadata": {},
   "outputs": [
    {
     "name": "stdout",
     "output_type": "stream",
     "text": [
      "0.9437374239950931\n",
      "Time for training: 2898.5596356391907\n",
      "Time for testing: 280.39774537086487\n",
      "Accuracy: 0.7983372921615202\n"
     ]
    }
   ],
   "source": [
    "from sklearn.model_selection import KFold\n",
    "from sklearn.model_selection import cross_val_score\n",
    "\n",
    "cv = KFold(n_splits=5, random_state=1, shuffle=True)\n",
    "\n",
    "clf = svm.SVC(kernel='linear')\n",
    "\n",
    "start_time = time.time()\n",
    "scores = []\n",
    "for train_idx, test_idx in cv.split(train_data):\n",
    "\tX_train, X_test, Y_train, Y_test = np.array(train_data)[train_idx], np.array(\n",
    "\t\ttrain_data)[test_idx], np.array(train_labels)[train_idx], np.array(train_labels)[test_idx]\n",
    "\tclf.fit(X_train, Y_train)\n",
    "\tscores.append(clf.score(X_test, Y_test))\n",
    "print(np.mean(scores))\n",
    "print('Time for training: {}'.format(time.time() - start_time))\n",
    "\n",
    "start_time = time.time()\n",
    "test_predict = clf.predict(test_data)\n",
    "print('Time for testing: {}'.format(time.time() - start_time))\n",
    "\n",
    "print('Accuracy: {}'.format(metrics.accuracy_score(test_predict, test_labels)))\n"
   ]
  },
  {
   "cell_type": "markdown",
   "metadata": {},
   "source": [
    "## SVM Polynomial (K-fold cross validation)"
   ]
  },
  {
   "cell_type": "code",
   "execution_count": 20,
   "metadata": {},
   "outputs": [
    {
     "name": "stdout",
     "output_type": "stream",
     "text": [
      "0.6151960211883767\n",
      "Time for training: 5522.038682222366\n",
      "Time for testing: 231.9567301273346\n",
      "Accuracy: 0.46270783847980995\n"
     ]
    }
   ],
   "source": [
    "from sklearn.model_selection import KFold\n",
    "from sklearn.model_selection import cross_val_score\n",
    "\n",
    "cv = KFold(n_splits=5, random_state=1, shuffle=True)\n",
    "\n",
    "clf = svm.SVC(kernel='poly', degree=4)\n",
    "\n",
    "start_time = time.time()\n",
    "scores = []\n",
    "for train_idx, test_idx in cv.split(train_data):\n",
    "\tX_train, X_test, Y_train, Y_test = np.array(train_data)[train_idx], np.array(\n",
    "\t\ttrain_data)[test_idx], np.array(train_labels)[train_idx], np.array(train_labels)[test_idx]\n",
    "\tclf.fit(X_train, Y_train)\n",
    "\tscores.append(clf.score(X_test, Y_test))\n",
    "print(np.mean(scores))\n",
    "print('Time for training: {}'.format(time.time() - start_time))\n",
    "\n",
    "start_time = time.time()\n",
    "test_predict = clf.predict(test_data)\n",
    "print('Time for testing: {}'.format(time.time() - start_time))\n",
    "\n",
    "print('Accuracy: {}'.format(metrics.accuracy_score(test_predict, test_labels)))\n"
   ]
  },
  {
   "cell_type": "markdown",
   "metadata": {},
   "source": [
    "## Random Forest classifier"
   ]
  },
  {
   "cell_type": "code",
   "execution_count": 7,
   "metadata": {},
   "outputs": [
    {
     "name": "stdout",
     "output_type": "stream",
     "text": [
      "Time for training: 180.77027249336243\n",
      "Train Accuracy: 100.0\n",
      "Time for testing: 1.015742540359497\n",
      "Test Accuracy: 74.92478226444972\n"
     ]
    }
   ],
   "source": [
    "from sklearn.ensemble import RandomForestClassifier\n",
    "\n",
    "clf = RandomForestClassifier(n_estimators=100, random_state=0)\n",
    "\n",
    "start_time = time.time()\n",
    "clf.fit(train_data, train_labels)\n",
    "print('Time for training: {}'.format(time.time() - start_time))\n",
    "\n",
    "train_predict = clf.predict(train_data)\n",
    "print('Train Accuracy: {}'.format(\n",
    "    metrics.accuracy_score(train_predict, train_labels) * 100.0))\n",
    "\n",
    "start_time = time.time()\n",
    "test_predict = clf.predict(test_data)\n",
    "print('Time for testing: {}'.format(time.time() - start_time))\n",
    "\n",
    "print('Test Accuracy: {}'.format(\n",
    "    metrics.accuracy_score(test_predict, test_labels) * 100.0))\n"
   ]
  },
  {
   "cell_type": "code",
   "execution_count": 13,
   "metadata": {},
   "outputs": [
    {
     "name": "stdout",
     "output_type": "stream",
     "text": [
      "Time for training: 500.4677393436432\n",
      "Train Accuracy: 100.0\n",
      "Time for testing: 2.9098756313323975\n",
      "Test Accuracy: 71.63895486935867\n"
     ]
    }
   ],
   "source": [
    "clf = RandomForestClassifier(n_estimators=300, random_state=0)\n",
    "\n",
    "start_time = time.time()\n",
    "clf.fit(train_data, train_labels)\n",
    "print('Time for training: {}'.format(time.time() - start_time))\n",
    "\n",
    "train_predict = clf.predict(train_data)\n",
    "print('Train Accuracy: {}'.format(\n",
    "    metrics.accuracy_score(train_predict, train_labels) * 100.0))\n",
    "\n",
    "start_time = time.time()\n",
    "test_predict = clf.predict(test_data)\n",
    "print('Time for testing: {}'.format(time.time() - start_time))\n",
    "\n",
    "print('Test Accuracy: {}'.format(\n",
    "    metrics.accuracy_score(test_predict, test_labels) * 100.0))"
   ]
  },
  {
   "cell_type": "code",
   "execution_count": 15,
   "metadata": {},
   "outputs": [
    {
     "name": "stdout",
     "output_type": "stream",
     "text": [
      "Time for training: 322.56488943099976\n",
      "Train Accuracy: 100.0\n",
      "Time for testing: 1.731720209121704\n",
      "Test Accuracy: 71.25890736342043\n"
     ]
    }
   ],
   "source": [
    "clf = RandomForestClassifier(n_estimators=200, random_state=0)\n",
    "\n",
    "start_time = time.time()\n",
    "clf.fit(train_data, train_labels)\n",
    "print('Time for training: {}'.format(time.time() - start_time))\n",
    "\n",
    "train_predict = clf.predict(train_data)\n",
    "print('Train Accuracy: {}'.format(\n",
    "    metrics.accuracy_score(train_predict, train_labels) * 100.0))\n",
    "\n",
    "start_time = time.time()\n",
    "test_predict = clf.predict(test_data)\n",
    "print('Time for testing: {}'.format(time.time() - start_time))\n",
    "\n",
    "print('Test Accuracy: {}'.format(\n",
    "    metrics.accuracy_score(test_predict, test_labels) * 100.0))"
   ]
  },
  {
   "cell_type": "markdown",
   "metadata": {},
   "source": [
    "# With Augmentation"
   ]
  },
  {
   "cell_type": "code",
   "execution_count": 9,
   "metadata": {},
   "outputs": [],
   "source": [
    "def read_image_data(file_path, root_path, data_type):\n",
    "\ttransform = transforms.Compose([\n",
    "\t\ttransforms.Resize(32),\n",
    "\t\ttransforms.RandomCrop(32),\n",
    "\t\ttransforms.RandomAutocontrast(p=0.4),\n",
    "        transforms.RandomHorizontalFlip(p=1.0),\n",
    "\t\ttransforms.Grayscale(),\n",
    "\t\ttransforms.ToTensor()\n",
    "\t])\n",
    "\n",
    "\ttransform2 = transforms.Compose([\n",
    "\t\ttransforms.Resize(32),\n",
    "\t\ttransforms.RandomCrop(32),\n",
    "\t\ttransforms.Grayscale(),\n",
    "\t\ttransforms.ToTensor()\n",
    "\t])\n",
    "\n",
    "\timage_data = []\n",
    "\timage_labels = []\n",
    "\tcsv_content = pd.read_csv(file_path, usecols=['ClassId', 'Path']).values\n",
    "\tfor i in range(len(csv_content)):\n",
    "\t\timg = Image.open(root_path + csv_content[i][1])\n",
    "\t\tlabel = csv_content[i][0]\n",
    "\t\tif data_type == 'Train' and np.random.choice([0, 1], 1, p=[0.5, 0.5]) == 1:\n",
    "\t\t \timg_tensor = transform(img)\n",
    "\t\t \timage_data.append(img_tensor.numpy().flatten())\n",
    "\t\t \timage_labels.append(label)\n",
    "\t\timg_array = transform2(img).numpy().flatten()\n",
    "\t\timage_data.append(img_array)\n",
    "\t\timage_labels.append(label)\n",
    "\n",
    "\treturn image_data, image_labels\n"
   ]
  },
  {
   "cell_type": "code",
   "execution_count": 10,
   "metadata": {},
   "outputs": [
    {
     "name": "stdout",
     "output_type": "stream",
     "text": [
      "Time for reading not augmented data: 53.66627097129822\n",
      "58726 58726\n",
      "12630 12630\n"
     ]
    }
   ],
   "source": [
    "root_path = '../../../../ML_Project_Data/'\n",
    "train_path = root_path + 'Train.csv'\n",
    "test_path = root_path + 'Test.csv'\n",
    "\n",
    "start_time = time.time()\n",
    "train_data, train_labels = read_image_data(train_path, root_path, 'Train')\n",
    "train_data, train_labels = shuffle(train_data, train_labels, random_state=0)\n",
    "test_data, test_labels = read_image_data(test_path, root_path, 'Test')\n",
    "print('Time for reading not augmented data: {}'.format(time.time() - start_time))\n",
    "\n",
    "print(len(train_data), len(train_labels))\n",
    "print(len(test_data), len(test_labels))\n"
   ]
  },
  {
   "cell_type": "markdown",
   "metadata": {},
   "source": [
    "## SVM(Linear)"
   ]
  },
  {
   "cell_type": "code",
   "execution_count": 11,
   "metadata": {},
   "outputs": [
    {
     "name": "stdout",
     "output_type": "stream",
     "text": [
      "Time for training: 735.9279799461365\n",
      "Train Accuracy: 95.40578278786228\n",
      "Time for testing: 231.44842076301575\n",
      "Test Accuracy: 76.73000791765638\n"
     ]
    }
   ],
   "source": [
    "clf = svm.SVC(kernel='linear')\n",
    "\n",
    "start_time = time.time()\n",
    "clf.fit(train_data, train_labels)\n",
    "print('Time for training: {}'.format(time.time() - start_time))\n",
    "\n",
    "train_predict = clf.predict(train_data)\n",
    "print('Train Accuracy: {}'.format(\n",
    "    metrics.accuracy_score(train_predict, train_labels) * 100.0))\n",
    "\n",
    "start_time = time.time()\n",
    "test_predict = clf.predict(test_data)\n",
    "print('Time for testing: {}'.format(time.time() - start_time))\n",
    "\n",
    "print('Test Accuracy: {}'.format(\n",
    "    metrics.accuracy_score(test_predict, test_labels) * 100.0))\n"
   ]
  },
  {
   "cell_type": "markdown",
   "metadata": {},
   "source": [
    "## SVM (polynomial)"
   ]
  },
  {
   "cell_type": "code",
   "execution_count": 18,
   "metadata": {},
   "outputs": [
    {
     "name": "stdout",
     "output_type": "stream",
     "text": [
      "Time for training: 1475.7759742736816\n",
      "Train Accuracy: 73.91104451180055\n",
      "Time for testing: 304.6151440143585\n",
      "Test Accuracy: 47.672209026128264\n"
     ]
    }
   ],
   "source": [
    "clf2 = svm.SVC(kernel='poly', degree=4)\n",
    "\n",
    "start_time = time.time()\n",
    "clf2.fit(train_data, train_labels)\n",
    "print('Time for training: {}'.format(time.time() - start_time))\n",
    "\n",
    "train_predict = clf2.predict(train_data)\n",
    "print('Train Accuracy: {}'.format(\n",
    "    metrics.accuracy_score(train_predict, train_labels) * 100.0))\n",
    "\n",
    "start_time = time.time()\n",
    "test_predict = clf2.predict(test_data)\n",
    "print('Time for testing: {}'.format(time.time() - start_time))\n",
    "\n",
    "print('Test Accuracy: {}'.format(\n",
    "    metrics.accuracy_score(test_predict, test_labels) * 100.0))\n"
   ]
  },
  {
   "cell_type": "markdown",
   "metadata": {},
   "source": [
    "## SVM (K fold cross validation)"
   ]
  },
  {
   "cell_type": "code",
   "execution_count": 19,
   "metadata": {},
   "outputs": [
    {
     "name": "stdout",
     "output_type": "stream",
     "text": [
      "0.8671798071236372\n",
      "Time for training: 2956.665678501129\n",
      "Time for testing: 174.63573503494263\n",
      "Accuracy: 0.7588281868566904\n"
     ]
    }
   ],
   "source": [
    "from sklearn.model_selection import KFold\n",
    "from sklearn.model_selection import cross_val_score\n",
    "\n",
    "cv = KFold(n_splits=5, random_state=1, shuffle=True)\n",
    "\n",
    "clf = svm.SVC(kernel='linear')\n",
    "\n",
    "start_time = time.time()\n",
    "scores = []\n",
    "for train_idx, test_idx in cv.split(train_data):\n",
    "\tX_train, X_test, Y_train, Y_test = np.array(train_data)[train_idx], np.array(\n",
    "\t\ttrain_data)[test_idx], np.array(train_labels)[train_idx], np.array(train_labels)[test_idx]\n",
    "\tclf.fit(X_train, Y_train)\n",
    "\tscores.append(clf.score(X_test, Y_test))\n",
    "print(np.mean(scores))\n",
    "print('Time for training: {}'.format(time.time() - start_time))\n",
    "\n",
    "start_time = time.time()\n",
    "test_predict = clf.predict(test_data)\n",
    "print('Time for testing: {}'.format(time.time() - start_time))\n",
    "\n",
    "print('Accuracy: {}'.format(metrics.accuracy_score(test_predict, test_labels)))"
   ]
  },
  {
   "cell_type": "markdown",
   "metadata": {},
   "source": [
    "## Random Forest Classifier"
   ]
  },
  {
   "cell_type": "code",
   "execution_count": 12,
   "metadata": {},
   "outputs": [
    {
     "name": "stdout",
     "output_type": "stream",
     "text": [
      "Time for training: 155.21977257728577\n",
      "Train Accuracy: 100.0\n",
      "Time for testing: 0.9853112697601318\n",
      "Test Accuracy: 70.1187648456057\n"
     ]
    }
   ],
   "source": [
    "from sklearn.ensemble import RandomForestClassifier\n",
    "\n",
    "clf = RandomForestClassifier(n_estimators=100, random_state=0)\n",
    "\n",
    "start_time = time.time()\n",
    "clf.fit(train_data, train_labels)\n",
    "print('Time for training: {}'.format(time.time() - start_time))\n",
    "\n",
    "train_predict = clf.predict(train_data)\n",
    "print('Train Accuracy: {}'.format(\n",
    "    metrics.accuracy_score(train_predict, train_labels) * 100.0))\n",
    "\n",
    "start_time = time.time()\n",
    "test_predict = clf.predict(test_data)\n",
    "print('Time for testing: {}'.format(time.time() - start_time))\n",
    "\n",
    "print('Test Accuracy: {}'.format(\n",
    "    metrics.accuracy_score(test_predict, test_labels) * 100.0))\n"
   ]
  },
  {
   "cell_type": "code",
   "execution_count": 17,
   "metadata": {},
   "outputs": [
    {
     "name": "stdout",
     "output_type": "stream",
     "text": [
      "Time for training: 514.7585415840149\n",
      "Train Accuracy: 100.0\n",
      "Time for testing: 2.7575910091400146\n",
      "Test Accuracy: 71.63895486935867\n"
     ]
    }
   ],
   "source": [
    "clf = RandomForestClassifier(n_estimators=300, random_state=0)\n",
    "\n",
    "start_time = time.time()\n",
    "clf.fit(train_data, train_labels)\n",
    "print('Time for training: {}'.format(time.time() - start_time))\n",
    "\n",
    "train_predict = clf.predict(train_data)\n",
    "print('Train Accuracy: {}'.format(\n",
    "    metrics.accuracy_score(train_predict, train_labels) * 100.0))\n",
    "\n",
    "start_time = time.time()\n",
    "test_predict = clf.predict(test_data)\n",
    "print('Time for testing: {}'.format(time.time() - start_time))\n",
    "\n",
    "print('Test Accuracy: {}'.format(\n",
    "    metrics.accuracy_score(test_predict, test_labels) * 100.0))"
   ]
  },
  {
   "cell_type": "code",
   "execution_count": 16,
   "metadata": {},
   "outputs": [
    {
     "name": "stdout",
     "output_type": "stream",
     "text": [
      "Time for training: 343.944881439209\n",
      "Train Accuracy: 100.0\n",
      "Time for testing: 1.8990697860717773\n",
      "Test Accuracy: 71.25890736342043\n"
     ]
    }
   ],
   "source": [
    "clf = RandomForestClassifier(n_estimators=200, random_state=0)\n",
    "\n",
    "start_time = time.time()\n",
    "clf.fit(train_data, train_labels)\n",
    "print('Time for training: {}'.format(time.time() - start_time))\n",
    "\n",
    "train_predict = clf.predict(train_data)\n",
    "print('Train Accuracy: {}'.format(\n",
    "    metrics.accuracy_score(train_predict, train_labels) * 100.0))\n",
    "\n",
    "start_time = time.time()\n",
    "test_predict = clf.predict(test_data)\n",
    "print('Time for testing: {}'.format(time.time() - start_time))\n",
    "\n",
    "print('Test Accuracy: {}'.format(\n",
    "    metrics.accuracy_score(test_predict, test_labels) * 100.0))\n"
   ]
  },
  {
   "cell_type": "markdown",
   "metadata": {},
   "source": [
    "## Temp"
   ]
  },
  {
   "cell_type": "code",
   "execution_count": null,
   "metadata": {},
   "outputs": [],
   "source": [
    "def read_image_data(file_path, root_path, data_type):\n",
    "\ttransform1 = transforms.Compose([\n",
    "\t\ttransforms.Resize(32),\n",
    "\t\ttransforms.RandomCrop(32),\n",
    "        transforms.RandomHorizontalFlip(p=1.0),\n",
    "\t\ttransforms.GaussianBlur(kernel_size=3),\n",
    "\t\ttransforms.ToTensor()\n",
    "\t])\n",
    "\n",
    "\ttransform2 = transforms.Compose([\n",
    "\t\ttransforms.Resize(32),\n",
    "\t\ttransforms.RandomCrop(32),\n",
    "\t\ttransforms.ToTensor()\n",
    "\t])\n",
    "\timage_data = []\n",
    "\timage_labels = []\n",
    "\taugmented_images = []\n",
    "\tcsv_content = pd.read_csv(file_path, usecols=['ClassId', 'Path']).values\n",
    "\tfor i in range(len(csv_content)):\n",
    "\t\timg = Image.open(root_path + csv_content[i][1])\n",
    "\t\tlabel = csv_content[i][0]\n",
    "\t\t# if data_type == 'Train' and np.random.choice([0, 1], 1, p=[0.5, 0.5]) == 1:\n",
    "\t\t# \timg_tensor = transform(img)\n",
    "\t\t# \timage_data.append(img_tensor.numpy().flatten())\n",
    "\t\t# \timage_labels.append(label)\n",
    "\t\t\n",
    "\t\timg_array = transform2(img).numpy().flatten()\n",
    "\t\timage_data.append(img_array)\n",
    "\t\timage_labels.append(label)\n",
    "\t\n",
    "\treturn image_data, image_labels\n"
   ]
  },
  {
   "cell_type": "code",
   "execution_count": 6,
   "metadata": {},
   "outputs": [
    {
     "name": "stdout",
     "output_type": "stream",
     "text": [
      "39209 39209\n",
      "(3072,)\n",
      "12630 12630\n"
     ]
    }
   ],
   "source": [
    "root_path = '../../../../ML_Project_Data/'\n",
    "train_path = root_path + 'Train.csv'\n",
    "test_path = root_path + 'Test.csv'\n",
    "\n",
    "train_data, train_labels = read_image_data(train_path, root_path, 'Train')\n",
    "train_data, train_labels = shuffle(train_data, train_labels, random_state=0)\n",
    "test_data, test_labels = read_image_data(test_path, root_path, 'Test')\n",
    "print(len(train_data), len(train_labels))\n",
    "print(train_data[0].shape)\n",
    "print(len(test_data), len(test_labels))"
   ]
  },
  {
   "cell_type": "code",
   "execution_count": 22,
   "metadata": {},
   "outputs": [
    {
     "data": {
      "text/plain": [
       "SVC(kernel='linear')"
      ]
     },
     "execution_count": 22,
     "metadata": {},
     "output_type": "execute_result"
    }
   ],
   "source": [
    "clf = svm.SVC(kernel='linear')\n",
    "\n",
    "clf.fit(train_data, train_labels)"
   ]
  },
  {
   "cell_type": "code",
   "execution_count": 23,
   "metadata": {},
   "outputs": [
    {
     "name": "stdout",
     "output_type": "stream",
     "text": [
      "Train Accuracy: 99.95664260756459\n",
      "Test Accuracy: 82.27236737925574\n"
     ]
    }
   ],
   "source": [
    "train_predict = clf.predict(train_data)\n",
    "print('Train Accuracy: {}'.format(metrics.accuracy_score(train_predict, train_labels) * 100.0))\n",
    "\n",
    "test_predict = clf.predict(test_data)\n",
    "print('Test Accuracy: {}'.format(metrics.accuracy_score(test_predict, test_labels) * 100.0))"
   ]
  },
  {
   "cell_type": "code",
   "execution_count": 7,
   "metadata": {},
   "outputs": [
    {
     "name": "stdout",
     "output_type": "stream",
     "text": [
      "Train Accuracy: 99.91328521512918\n",
      "Test Accuracy: 80.21377672209026\n"
     ]
    }
   ],
   "source": [
    "clf = svm.SVC(kernel='linear')\n",
    "\n",
    "clf.fit(train_data, train_labels)\n",
    "\n",
    "train_predict = clf.predict(train_data)\n",
    "print('Train Accuracy: {}'.format(\n",
    "    metrics.accuracy_score(train_predict, train_labels) * 100.0))\n",
    "\n",
    "test_predict = clf.predict(test_data)\n",
    "print('Test Accuracy: {}'.format(\n",
    "    metrics.accuracy_score(test_predict, test_labels) * 100.0))\n"
   ]
  },
  {
   "cell_type": "code",
   "execution_count": 24,
   "metadata": {},
   "outputs": [
    {
     "data": {
      "text/plain": [
       "SVC(kernel='poly')"
      ]
     },
     "execution_count": 24,
     "metadata": {},
     "output_type": "execute_result"
    }
   ],
   "source": [
    "clf2 = svm.SVC(kernel='poly', degree=4)\n",
    "\n",
    "clf2.fit(train_data, train_labels)"
   ]
  },
  {
   "cell_type": "code",
   "execution_count": 25,
   "metadata": {},
   "outputs": [
    {
     "name": "stdout",
     "output_type": "stream",
     "text": [
      "Train Accuracy: 77.31388201688388\n",
      "Test Accuracy: 56.722090261282666\n"
     ]
    }
   ],
   "source": [
    "train_predict = clf2.predict(train_data)\n",
    "print('Train Accuracy: {}'.format(metrics.accuracy_score(train_predict, train_labels) * 100.0))\n",
    "\n",
    "test_predict = clf2.predict(test_data)\n",
    "print('Test Accuracy: {}'.format(metrics.accuracy_score(test_predict, test_labels) * 100.0))"
   ]
  },
  {
   "cell_type": "code",
   "execution_count": 26,
   "metadata": {},
   "outputs": [
    {
     "name": "stdout",
     "output_type": "stream",
     "text": [
      "0.9647019066597581\n"
     ]
    }
   ],
   "source": [
    "from sklearn.model_selection import KFold\n",
    "from sklearn.model_selection import cross_val_score\n",
    "\n",
    "cv = KFold(n_splits=7, random_state=1, shuffle=True)\n",
    "\n",
    "clf = svm.SVC(kernel='linear')\n",
    "\n",
    "scores = []\n",
    "for train_idx, test_idx in cv.split(train_data):\n",
    "\tX_train, X_test, Y_train, Y_test = np.array(train_data)[train_idx], np.array(train_data)[test_idx], np.array(train_labels)[train_idx], np.array(train_labels)[test_idx]\n",
    "\tclf.fit(X_train, Y_train)\n",
    "\tscores.append(clf.score(X_test, Y_test))\n",
    "print(np.mean(scores))\n"
   ]
  },
  {
   "cell_type": "code",
   "execution_count": 27,
   "metadata": {},
   "outputs": [
    {
     "name": "stdout",
     "output_type": "stream",
     "text": [
      "Accuracy: 0.821931908155186\n"
     ]
    }
   ],
   "source": [
    "test_predict = clf.predict(test_data)\n",
    "\n",
    "print('Accuracy: {}'.format(metrics.accuracy_score(test_predict, test_labels)))"
   ]
  },
  {
   "cell_type": "code",
   "execution_count": 8,
   "metadata": {},
   "outputs": [],
   "source": [
    "from sklearn.ensemble import RandomForestClassifier"
   ]
  },
  {
   "cell_type": "code",
   "execution_count": 16,
   "metadata": {},
   "outputs": [],
   "source": [
    "clf = RandomForestClassifier(n_estimators=300, random_state=0)\n",
    "\n",
    "clf.fit(train_data, train_labels)"
   ]
  },
  {
   "cell_type": "code",
   "execution_count": 15,
   "metadata": {},
   "outputs": [
    {
     "name": "stdout",
     "output_type": "stream",
     "text": [
      "Train Accuracy: 100.0\n",
      "Test Accuracy: 75.48693586698337\n"
     ]
    }
   ],
   "source": [
    "train_predict = clf.predict(train_data)\n",
    "print('Train Accuracy: {}'.format(\n",
    "    metrics.accuracy_score(train_predict, train_labels) * 100.0))\n",
    "\n",
    "test_predict = clf.predict(test_data)\n",
    "print('Test Accuracy: {}'.format(\n",
    "    metrics.accuracy_score(test_predict, test_labels) * 100.0))\n"
   ]
  }
 ],
 "metadata": {
  "interpreter": {
   "hash": "63fd5069d213b44bf678585dea6b12cceca9941eaf7f819626cde1f2670de90d"
  },
  "kernelspec": {
   "display_name": "Python 3.9.2 64-bit",
   "name": "python3"
  },
  "language_info": {
   "codemirror_mode": {
    "name": "ipython",
    "version": 3
   },
   "file_extension": ".py",
   "mimetype": "text/x-python",
   "name": "python",
   "nbconvert_exporter": "python",
   "pygments_lexer": "ipython3",
   "version": "3.9.2"
  },
  "orig_nbformat": 4
 },
 "nbformat": 4,
 "nbformat_minor": 2
}
