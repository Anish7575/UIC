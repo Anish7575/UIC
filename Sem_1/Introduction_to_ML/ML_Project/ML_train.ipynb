{
 "cells": [
  {
   "cell_type": "code",
   "execution_count": 32,
   "metadata": {},
   "outputs": [],
   "source": [
    "# Name: Sai Anish Garapati\n",
    "# UIN: 650208577"
   ]
  },
  {
   "cell_type": "code",
   "execution_count": null,
   "metadata": {},
   "outputs": [],
   "source": []
  },
  {
   "cell_type": "code",
   "execution_count": 33,
   "metadata": {},
   "outputs": [],
   "source": [
    "import torch\n",
    "import torchvision\n",
    "import torchvision.transforms as transforms\n",
    "from torch.utils.data import Dataset, DataLoader\n",
    "import os\n",
    "import shutil\n",
    "import torch.nn as nn\n",
    "import torch.nn.functional as F\n",
    "import torch.optim as optim\n",
    "from torch.optim.lr_scheduler import StepLR\n",
    "import numpy as np\n",
    "import matplotlib.pyplot as plt\n",
    "import matplotlib.image as Image"
   ]
  },
  {
   "cell_type": "code",
   "execution_count": 34,
   "metadata": {},
   "outputs": [],
   "source": [
    "class Net(nn.Module):\n",
    "    def __init__(self):\n",
    "        super(Net, self).__init__()\n",
    "        self.conv1 = nn.Conv2d(3, 32, 3, 1)\n",
    "        self.conv2 = nn.Conv2d(32, 64, 3, 1)\n",
    "        self.dropout1 = nn.Dropout(0.25)\n",
    "        self.dropout2 = nn.Dropout(0.5)\n",
    "        self.fc1 = nn.Linear(12544, 1024)\n",
    "        self.fc2 = nn.Linear(1024, 256)\n",
    "        self.fc3 = nn.Linear(256, 43)\n",
    "\n",
    "    def forward(self, x):\n",
    "        x = F.relu(self.conv1(x))\n",
    "        x = F.relu(self.conv2(x))\n",
    "        x = F.max_pool2d(x, 2)\n",
    "        x = self.dropout1(x)\n",
    "        x = torch.flatten(x, 1)\n",
    "        x = F.relu(self.fc1(x))\n",
    "        x = self.dropout2(x)\n",
    "        x = F.relu(self.fc2(x))\n",
    "        x = self.fc3(x)\n",
    "        return x\n",
    "\n",
    "        '''x = self.pool(F.relu(self.conv1(x)))\n",
    "        x = self.pool(F.relu(self.conv2(x)))\n",
    "        x = torch.flatten(x, 1)\n",
    "        x = F.relu(self.fc1(x))\n",
    "        x = F.relu(self.fc2(x))\n",
    "        x = self.fc3(x)\n",
    "        return x'''"
   ]
  },
  {
   "cell_type": "code",
   "execution_count": 35,
   "metadata": {},
   "outputs": [],
   "source": [
    "def train_model(device, model, train_loader, optimizer, epoch, batch_size):\n",
    "    model.train()\n",
    "    tot_loss = 0\n",
    "    correct = 0\n",
    "    for batch_idx, (data, label) in enumerate(train_loader):\n",
    "        data, label = data.to(device), label.to(device)\n",
    "        optimizer.zero_grad()\n",
    "        output = model(data)\n",
    "        loss = torch.nn.CrossEntropyLoss()(output, label)\n",
    "        loss.backward()\n",
    "        optimizer.step()\n",
    "\n",
    "        predictions = output.argmax(dim=1, keepdim=True)\n",
    "        correct += predictions.eq(label.view_as(predictions)).sum().item()\n",
    "        tot_loss += loss.item()\n",
    "        if batch_idx % 100 == 0:\n",
    "            print('Train Epoch: {} [{}/{} ({:.0f}%)]\\tLoss: {:.6f}, Accuracy: {:.2f}%'.format(\n",
    "                epoch, batch_idx * len(data), len(train_loader.dataset),\n",
    "                100.0 * batch_idx / len(train_loader), tot_loss / (batch_idx + 1),\n",
    "                100.0 * correct / ((batch_idx + 1) * batch_size)))\n",
    "    print('End of Epoch: {}'.format(epoch))\n",
    "    print('Training Loss: {:.6f}, Training Accuracy: {:.2f}%'.format(\n",
    "        tot_loss / len(train_loader), 100.0 * correct / (len(train_loader) * batch_size)))\n",
    "\n",
    "    return tot_loss / len(train_loader), 100.0 * correct / (len(train_loader) * batch_size)\n"
   ]
  },
  {
   "cell_type": "code",
   "execution_count": 36,
   "metadata": {},
   "outputs": [],
   "source": [
    "def validation_model(device, model, validation_loader, batch_size):\n",
    "    model.eval()\n",
    "    tot_loss = 0\n",
    "    correct = 0\n",
    "    with torch.no_grad():\n",
    "        for batch_idx, (data, label) in enumerate(validation_loader):\n",
    "            data, label = data.to(device), label.to(device)\n",
    "            output = model(data)\n",
    "            tot_loss += torch.nn.CrossEntropyLoss()(output, label).item()\n",
    "            predictions = output.argmax(dim=1, keepdim=True)\n",
    "            # print(predictions, label.view_as(predictions))\n",
    "            correct += predictions.eq(label.view_as(predictions)).sum().item()\n",
    "\n",
    "    # print(correct, len(validation_loader) * batch_size, (batch_idx + 1) * batch_size)\n",
    "\n",
    "    print('Validation Loss: {:.6f}, Validation Accuracy: {:.2f}%'.format(\n",
    "        tot_loss / len(validation_loader),\n",
    "        100.0 * correct / (len(validation_loader) * batch_size)\n",
    "    ))\n",
    "\n",
    "    return tot_loss/len(validation_loader), 100.0 * correct / (len(validation_loader) * batch_size)\n"
   ]
  },
  {
   "cell_type": "code",
   "execution_count": 37,
   "metadata": {},
   "outputs": [
    {
     "name": "stdout",
     "output_type": "stream",
     "text": [
      "Train Epoch: 1 [0/33327 (0%)]\tLoss: 3.759278, Accuracy: 0.78%\n",
      "Train Epoch: 1 [12800/33327 (38%)]\tLoss: 2.626584, Accuracy: 27.17%\n",
      "Train Epoch: 1 [25600/33327 (77%)]\tLoss: 1.824681, Accuracy: 47.56%\n",
      "End of Epoch: 1\n",
      "Training Loss: 1.546092, Training Accuracy: 55.07%\n",
      "Validation Loss: 0.403512, Validation Accuracy: 87.47%\n",
      "Train Epoch: 2 [0/33327 (0%)]\tLoss: 0.447363, Accuracy: 89.06%\n",
      "Train Epoch: 2 [12800/33327 (38%)]\tLoss: 0.422045, Accuracy: 87.36%\n",
      "Train Epoch: 2 [25600/33327 (77%)]\tLoss: 0.381274, Accuracy: 88.66%\n",
      "End of Epoch: 2\n",
      "Training Loss: 0.355950, Training Accuracy: 89.12%\n",
      "Validation Loss: 0.154395, Validation Accuracy: 93.85%\n",
      "Train Epoch: 3 [0/33327 (0%)]\tLoss: 0.161721, Accuracy: 94.53%\n",
      "Train Epoch: 3 [12800/33327 (38%)]\tLoss: 0.215455, Accuracy: 93.62%\n",
      "Train Epoch: 3 [25600/33327 (77%)]\tLoss: 0.205774, Accuracy: 93.87%\n",
      "End of Epoch: 3\n",
      "Training Loss: 0.198410, Training Accuracy: 93.88%\n",
      "Validation Loss: 0.111120, Validation Accuracy: 95.32%\n",
      "Train Epoch: 4 [0/33327 (0%)]\tLoss: 0.276609, Accuracy: 91.41%\n",
      "Train Epoch: 4 [12800/33327 (38%)]\tLoss: 0.152953, Accuracy: 95.60%\n",
      "Train Epoch: 4 [25600/33327 (77%)]\tLoss: 0.142494, Accuracy: 95.80%\n",
      "End of Epoch: 4\n",
      "Training Loss: 0.138851, Training Accuracy: 95.71%\n",
      "Validation Loss: 0.075363, Validation Accuracy: 96.32%\n",
      "Train Epoch: 5 [0/33327 (0%)]\tLoss: 0.042671, Accuracy: 97.66%\n",
      "Train Epoch: 5 [12800/33327 (38%)]\tLoss: 0.093929, Accuracy: 97.22%\n",
      "Train Epoch: 5 [25600/33327 (77%)]\tLoss: 0.095044, Accuracy: 97.15%\n",
      "End of Epoch: 5\n",
      "Training Loss: 0.097756, Training Accuracy: 96.83%\n",
      "Validation Loss: 0.061724, Validation Accuracy: 96.63%\n"
     ]
    },
    {
     "data": {
      "image/png": "[encoded data removed]",
      "text/plain": [
       "<Figure size 432x288 with 1 Axes>"
      ]
     },
     "metadata": {
      "needs_background": "light"
     },
     "output_type": "display_data"
    },
    {
     "data": {
      "image/png": "[encoded data removed]",
      "text/plain": [
       "<Figure size 432x288 with 1 Axes>"
      ]
     },
     "metadata": {
      "needs_background": "light"
     },
     "output_type": "display_data"
    }
   ],
   "source": [
    "if __name__ == '__main__':\n",
    "    train_path = '../../../../ML_Project_data/Train/'\n",
    "    test_path = '../../../../ML_Project_data/Test/'\n",
    "\n",
    "    label_map = []\n",
    "\n",
    "    transform = transforms.Compose([\n",
    "        transforms.Resize(32),\n",
    "        transforms.RandomCrop(32),\n",
    "        # transforms.Grayscale(),\n",
    "        transforms.ToTensor(),\n",
    "        # transforms.Normalize((0.5, 0.5, 0.5), (0.5, 0.5, 0.5)),\n",
    "    ])\n",
    "\n",
    "    train_dataset = torchvision.datasets.ImageFolder(root=train_path, transform=transform)\n",
    "    test_dataset = torchvision.datasets.ImageFolder(root=test_path, transform=transform)\n",
    "\n",
    "    train_len = int(0.85 * len(train_dataset))\n",
    "    validation_len = len(train_dataset) - train_len\n",
    "\n",
    "    train_data, validation_data = torch.utils.data.random_split(train_dataset, [train_len, validation_len])\n",
    "\n",
    "    torch.manual_seed(2021)\n",
    "\n",
    "    train_loader = torch.utils.data.DataLoader(train_data, batch_size=128, shuffle=True)\n",
    "    # test_loader = torch.utils.data.DataLoader(test_dataset, batch_size=1, shuffle=False)\n",
    "    validation_loader = torch.utils.data.DataLoader(validation_data, batch_size=500, shuffle=True)\n",
    "\n",
    "    device = torch.device('cuda:0' if torch.cuda.is_available() else 'cpu')\n",
    "\n",
    "    model = Net().to(device)\n",
    "    optimizer = optim.Adam(model.parameters(), lr=0.001, weight_decay=0)\n",
    "    scheduler = StepLR(optimizer, step_size=5, gamma=0.8)\n",
    "\n",
    "    training_loss = []\n",
    "    training_accuracy = []\n",
    "    validation_loss = []\n",
    "    validation_accuracy = []\n",
    "\n",
    "    for epoch in range(0, 5):\n",
    "        loss, accuracy = train_model(device, model, train_loader, optimizer, epoch + 1, 128)\n",
    "        training_loss.append(loss)\n",
    "        training_accuracy.append(accuracy)\n",
    "\n",
    "        loss, accuracy = validation_model(device, model, validation_loader, 500)\n",
    "        validation_loss.append(loss)\n",
    "        validation_accuracy.append(accuracy)\n",
    "\n",
    "        scheduler.step()\n",
    "\n",
    "    %matplotlib inline\n",
    "    plt.title('Plot of Epochs vs Loss for training and validation data')\n",
    "    plt.xlabel('Epochs')\n",
    "    plt.ylabel('Loss')\n",
    "    plt.plot(list(range(1, len(training_loss) + 1)), training_loss, 'r', label='Training set')\n",
    "    plt.plot(list(range(1, len(validation_loss) + 1)), validation_loss, 'b', label='validation set')\n",
    "    plt.legend(title='Legend')\n",
    "    plt.show()\n",
    "\n",
    "    plt.title('Plot of Epochs vs Accuracy for training and validation data')\n",
    "    plt.xlabel('Epochs')\n",
    "    plt.ylabel('Accuracy')\n",
    "    plt.plot(list(range(1, len(training_loss) + 1)), training_accuracy, 'r', label='Training set')\n",
    "    plt.plot(list(range(1, len(validation_loss) + 1)), validation_accuracy, 'b', label='validation set')\n",
    "    plt.legend(title='Legend')\n",
    "\n",
    "    plt.show()\n",
    "\n",
    "    torch.save(model.state_dict(), 'ML_Model.pt')\n"
   ]
  },
  {
   "cell_type": "code",
   "execution_count": null,
   "metadata": {},
   "outputs": [],
   "source": []
  }
 ],
 "metadata": {
  "interpreter": {
   "hash": "63fd5069d213b44bf678585dea6b12cceca9941eaf7f819626cde1f2670de90d"
  },
  "kernelspec": {
   "display_name": "Python 3.9.2 64-bit",
   "name": "python3"
  },
  "language_info": {
   "codemirror_mode": {
    "name": "ipython",
    "version": 3
   },
   "file_extension": ".py",
   "mimetype": "text/x-python",
   "name": "python",
   "nbconvert_exporter": "python",
   "pygments_lexer": "ipython3",
   "version": "3.9.2"
  }
 },
 "nbformat": 4,
 "nbformat_minor": 4
}
